{
 "cells": [
  {
   "cell_type": "code",
   "execution_count": 14,
   "metadata": {},
   "outputs": [],
   "source": [
    "import pandas as pd\n",
    "\n",
    "from sklearn.preprocessing import StandardScaler\n",
    "from sklearn.decomposition import PCA\n",
    "from sklearn.neighbors import NearestNeighbors"
   ]
  },
  {
   "cell_type": "code",
   "execution_count": 2,
   "metadata": {},
   "outputs": [],
   "source": [
    "df = pd.read_parquet(\"../data/processed/products_clustering.parquet\")\n",
    "\n"
   ]
  },
  {
   "cell_type": "code",
   "execution_count": 6,
   "metadata": {},
   "outputs": [],
   "source": [
    "# def ensure_dtypes(df):\n",
    "#     from pandas import dtype\n",
    "\n",
    "#     schema = {\n",
    "#         \"id\": dtype(\"int64\"),\n",
    "#         \"subscribers_count\": dtype(\"int64\"),\n",
    "#         \"float_price\": dtype(\"float64\"),\n",
    "#         \"is_ps5\": dtype(\"int64\"),\n",
    "#         \"is_ps4\": dtype(\"int64\"),\n",
    "#         \"is_ps3\": dtype(\"int64\"),\n",
    "#         \"is_psv\": dtype(\"int64\"),\n",
    "#         \"platforms_count\": dtype(\"int64\"),\n",
    "#         \"has_platinum\": dtype(\"int32\"),\n",
    "#     }\n",
    "\n",
    "#     assert df.dtypes.to_dict() == schema\n"
   ]
  },
  {
   "cell_type": "code",
   "execution_count": 12,
   "metadata": {},
   "outputs": [],
   "source": [
    "X = df.drop(columns=[\"id\"]).to_numpy()"
   ]
  },
  {
   "cell_type": "code",
   "execution_count": 15,
   "metadata": {},
   "outputs": [],
   "source": [
    "scaler = StandardScaler()\n",
    "std_x = scaler.fit_transform(X)\n"
   ]
  },
  {
   "cell_type": "code",
   "execution_count": 21,
   "metadata": {},
   "outputs": [
    {
     "data": {
      "text/html": [
       "<div>\n",
       "<style scoped>\n",
       "    .dataframe tbody tr th:only-of-type {\n",
       "        vertical-align: middle;\n",
       "    }\n",
       "\n",
       "    .dataframe tbody tr th {\n",
       "        vertical-align: top;\n",
       "    }\n",
       "\n",
       "    .dataframe thead th {\n",
       "        text-align: right;\n",
       "    }\n",
       "</style>\n",
       "<table border=\"1\" class=\"dataframe\">\n",
       "  <thead>\n",
       "    <tr style=\"text-align: right;\">\n",
       "      <th></th>\n",
       "      <th>PC1</th>\n",
       "      <th>PC2</th>\n",
       "    </tr>\n",
       "  </thead>\n",
       "  <tbody>\n",
       "    <tr>\n",
       "      <th>0</th>\n",
       "      <td>-0.551933</td>\n",
       "      <td>1.034235</td>\n",
       "    </tr>\n",
       "    <tr>\n",
       "      <th>1</th>\n",
       "      <td>-1.037864</td>\n",
       "      <td>5.894371</td>\n",
       "    </tr>\n",
       "    <tr>\n",
       "      <th>2</th>\n",
       "      <td>-0.305457</td>\n",
       "      <td>0.292100</td>\n",
       "    </tr>\n",
       "    <tr>\n",
       "      <th>3</th>\n",
       "      <td>-0.452008</td>\n",
       "      <td>4.201093</td>\n",
       "    </tr>\n",
       "    <tr>\n",
       "      <th>4</th>\n",
       "      <td>-2.379893</td>\n",
       "      <td>7.132216</td>\n",
       "    </tr>\n",
       "  </tbody>\n",
       "</table>\n",
       "</div>"
      ],
      "text/plain": [
       "        PC1       PC2\n",
       "0 -0.551933  1.034235\n",
       "1 -1.037864  5.894371\n",
       "2 -0.305457  0.292100\n",
       "3 -0.452008  4.201093\n",
       "4 -2.379893  7.132216"
      ]
     },
     "execution_count": 21,
     "metadata": {},
     "output_type": "execute_result"
    }
   ],
   "source": [
    "pca = PCA(n_components=2)\n",
    "pca_x = pca.fit_transform(std_x)\n",
    "\n",
    "pca_df = pd.DataFrame(pca_x, columns=[\"PC1\", \"PC2\"])\n",
    "pca_df.head()\n"
   ]
  },
  {
   "cell_type": "code",
   "execution_count": 27,
   "metadata": {},
   "outputs": [],
   "source": [
    "# pca_df.plot.scatter(x=\"PC1\", y=\"PC2\")"
   ]
  },
  {
   "cell_type": "code",
   "execution_count": 29,
   "metadata": {},
   "outputs": [
    {
     "data": {
      "text/plain": [
       "array([[0.     , 0.00649, 0.01297, 0.01297, 0.04436],\n",
       "       [0.     , 0.05727, 0.07499, 0.15565, 0.16614],\n",
       "       [0.     , 0.00649, 0.00973, 0.00973, 0.00973],\n",
       "       ...,\n",
       "       [0.     , 0.     , 0.00487, 0.00765, 0.01493],\n",
       "       [0.     , 0.     , 0.     , 0.     , 0.     ],\n",
       "       [0.     , 0.     , 0.     , 0.     , 0.     ]])"
      ]
     },
     "execution_count": 29,
     "metadata": {},
     "output_type": "execute_result"
    }
   ],
   "source": [
    "nbrs = NearestNeighbors(n_neighbors=5, algorithm=\"auto\").fit(pca_x)\n",
    "\n",
    "distances, indices = nbrs.kneighbors(pca_x)"
   ]
  },
  {
   "cell_type": "code",
   "execution_count": 30,
   "metadata": {},
   "outputs": [
    {
     "data": {
      "text/plain": [
       "array([[   0,   81, 3932, 2744,  386],\n",
       "       [   1, 1016,  766,    8, 1528],\n",
       "       [   2, 1321, 2964, 1731, 2904],\n",
       "       ...,\n",
       "       [7121, 6682, 4353,   42,   49],\n",
       "       [7122, 1664, 6477, 6120, 6637],\n",
       "       [1614, 2013, 1732, 1612, 1725]], dtype=int64)"
      ]
     },
     "execution_count": 30,
     "metadata": {},
     "output_type": "execute_result"
    }
   ],
   "source": [
    "indices"
   ]
  },
  {
   "cell_type": "code",
   "execution_count": 105,
   "metadata": {},
   "outputs": [],
   "source": [
    "nearest = pd.DataFrame(indices)\n",
    "nearest.columns = [\"n\" + str(x) for x in nearest.columns]"
   ]
  },
  {
   "cell_type": "code",
   "execution_count": 106,
   "metadata": {},
   "outputs": [
    {
     "data": {
      "text/html": [
       "<div>\n",
       "<style scoped>\n",
       "    .dataframe tbody tr th:only-of-type {\n",
       "        vertical-align: middle;\n",
       "    }\n",
       "\n",
       "    .dataframe tbody tr th {\n",
       "        vertical-align: top;\n",
       "    }\n",
       "\n",
       "    .dataframe thead th {\n",
       "        text-align: right;\n",
       "    }\n",
       "</style>\n",
       "<table border=\"1\" class=\"dataframe\">\n",
       "  <thead>\n",
       "    <tr style=\"text-align: right;\">\n",
       "      <th></th>\n",
       "      <th>n0</th>\n",
       "      <th>n1</th>\n",
       "      <th>n2</th>\n",
       "      <th>n3</th>\n",
       "      <th>n4</th>\n",
       "    </tr>\n",
       "  </thead>\n",
       "  <tbody>\n",
       "    <tr>\n",
       "      <th>0</th>\n",
       "      <td>0</td>\n",
       "      <td>81</td>\n",
       "      <td>3932</td>\n",
       "      <td>2744</td>\n",
       "      <td>386</td>\n",
       "    </tr>\n",
       "    <tr>\n",
       "      <th>1</th>\n",
       "      <td>1</td>\n",
       "      <td>1016</td>\n",
       "      <td>766</td>\n",
       "      <td>8</td>\n",
       "      <td>1528</td>\n",
       "    </tr>\n",
       "    <tr>\n",
       "      <th>2</th>\n",
       "      <td>2</td>\n",
       "      <td>1321</td>\n",
       "      <td>2964</td>\n",
       "      <td>1731</td>\n",
       "      <td>2904</td>\n",
       "    </tr>\n",
       "    <tr>\n",
       "      <th>3</th>\n",
       "      <td>3</td>\n",
       "      <td>102</td>\n",
       "      <td>160</td>\n",
       "      <td>3915</td>\n",
       "      <td>183</td>\n",
       "    </tr>\n",
       "    <tr>\n",
       "      <th>4</th>\n",
       "      <td>4</td>\n",
       "      <td>3591</td>\n",
       "      <td>384</td>\n",
       "      <td>3923</td>\n",
       "      <td>191</td>\n",
       "    </tr>\n",
       "  </tbody>\n",
       "</table>\n",
       "</div>"
      ],
      "text/plain": [
       "   n0    n1    n2    n3    n4\n",
       "0   0    81  3932  2744   386\n",
       "1   1  1016   766     8  1528\n",
       "2   2  1321  2964  1731  2904\n",
       "3   3   102   160  3915   183\n",
       "4   4  3591   384  3923   191"
      ]
     },
     "execution_count": 106,
     "metadata": {},
     "output_type": "execute_result"
    }
   ],
   "source": [
    "nearest.head()"
   ]
  },
  {
   "cell_type": "code",
   "execution_count": 110,
   "metadata": {},
   "outputs": [],
   "source": [
    "# Convert the indices in the dataframe to the product ids\n",
    "ids_dict = df[\"id\"].copy().to_dict()\n",
    "nearest_ids = nearest.replace(ids_dict).rename({\"n0\": \"game_id\"}, axis=1)\n"
   ]
  },
  {
   "cell_type": "code",
   "execution_count": 111,
   "metadata": {},
   "outputs": [
    {
     "data": {
      "text/html": [
       "<div>\n",
       "<style scoped>\n",
       "    .dataframe tbody tr th:only-of-type {\n",
       "        vertical-align: middle;\n",
       "    }\n",
       "\n",
       "    .dataframe tbody tr th {\n",
       "        vertical-align: top;\n",
       "    }\n",
       "\n",
       "    .dataframe thead th {\n",
       "        text-align: right;\n",
       "    }\n",
       "</style>\n",
       "<table border=\"1\" class=\"dataframe\">\n",
       "  <thead>\n",
       "    <tr style=\"text-align: right;\">\n",
       "      <th></th>\n",
       "      <th>game_id</th>\n",
       "      <th>n1</th>\n",
       "      <th>n2</th>\n",
       "      <th>n3</th>\n",
       "      <th>n4</th>\n",
       "    </tr>\n",
       "  </thead>\n",
       "  <tbody>\n",
       "    <tr>\n",
       "      <th>0</th>\n",
       "      <td>5154444</td>\n",
       "      <td>4872790</td>\n",
       "      <td>4967470</td>\n",
       "      <td>1220569</td>\n",
       "      <td>4878807</td>\n",
       "    </tr>\n",
       "    <tr>\n",
       "      <th>1</th>\n",
       "      <td>4928471</td>\n",
       "      <td>4086377</td>\n",
       "      <td>2746521</td>\n",
       "      <td>4672196</td>\n",
       "      <td>4346346</td>\n",
       "    </tr>\n",
       "    <tr>\n",
       "      <th>2</th>\n",
       "      <td>5198377</td>\n",
       "      <td>4937760</td>\n",
       "      <td>2420001</td>\n",
       "      <td>4775367</td>\n",
       "      <td>2367419</td>\n",
       "    </tr>\n",
       "    <tr>\n",
       "      <th>3</th>\n",
       "      <td>5048054</td>\n",
       "      <td>4713771</td>\n",
       "      <td>4713773</td>\n",
       "      <td>1527384</td>\n",
       "      <td>5145108</td>\n",
       "    </tr>\n",
       "    <tr>\n",
       "      <th>4</th>\n",
       "      <td>5065097</td>\n",
       "      <td>536131</td>\n",
       "      <td>3198029</td>\n",
       "      <td>2461059</td>\n",
       "      <td>5055132</td>\n",
       "    </tr>\n",
       "  </tbody>\n",
       "</table>\n",
       "</div>"
      ],
      "text/plain": [
       "   game_id       n1       n2       n3       n4\n",
       "0  5154444  4872790  4967470  1220569  4878807\n",
       "1  4928471  4086377  2746521  4672196  4346346\n",
       "2  5198377  4937760  2420001  4775367  2367419\n",
       "3  5048054  4713771  4713773  1527384  5145108\n",
       "4  5065097   536131  3198029  2461059  5055132"
      ]
     },
     "execution_count": 111,
     "metadata": {},
     "output_type": "execute_result"
    }
   ],
   "source": [
    "nearest_ids.head()"
   ]
  },
  {
   "cell_type": "code",
   "execution_count": 112,
   "metadata": {},
   "outputs": [
    {
     "data": {
      "text/plain": [
       "['../models/nearest_5_auto.sav']"
      ]
     },
     "execution_count": 112,
     "metadata": {},
     "output_type": "execute_result"
    }
   ],
   "source": [
    "import joblib\n",
    "\n",
    "joblib.dump(nbrs, \"../models/nearest_5_auto.sav\")"
   ]
  },
  {
   "cell_type": "code",
   "execution_count": 120,
   "metadata": {},
   "outputs": [],
   "source": [
    "nearest_ids.to_parquet(\"../data/neighbors_5_auto.parquet\")"
   ]
  }
 ],
 "metadata": {
  "kernelspec": {
   "display_name": ".venv",
   "language": "python",
   "name": "python3"
  },
  "language_info": {
   "codemirror_mode": {
    "name": "ipython",
    "version": 3
   },
   "file_extension": ".py",
   "mimetype": "text/x-python",
   "name": "python",
   "nbconvert_exporter": "python",
   "pygments_lexer": "ipython3",
   "version": "3.8.10"
  },
  "orig_nbformat": 4,
  "vscode": {
   "interpreter": {
    "hash": "c63cb6f097c135682a46eb230b1bcae42f7bd6c24efd7cd131b85d860d3bd97f"
   }
  }
 },
 "nbformat": 4,
 "nbformat_minor": 2
}
