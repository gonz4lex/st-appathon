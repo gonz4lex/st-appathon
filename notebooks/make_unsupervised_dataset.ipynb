{
 "cells": [
  {
   "cell_type": "code",
   "execution_count": 1,
   "metadata": {},
   "outputs": [],
   "source": [
    "import pandas as pd\n",
    "import numpy as np\n",
    "\n",
    "import datetime\n"
   ]
  },
  {
   "cell_type": "code",
   "execution_count": 2,
   "metadata": {},
   "outputs": [],
   "source": [
    "INPUT_FILE = \"../data/raw/products.parquet\""
   ]
  },
  {
   "cell_type": "code",
   "execution_count": 3,
   "metadata": {},
   "outputs": [],
   "source": [
    "in_data = pd.read_parquet(INPUT_FILE)\n",
    "\n",
    "data = in_data[\n",
    "    [   \n",
    "        \"name\",\n",
    "        \"id\",\n",
    "        \"release_date\",\n",
    "        \"platforms\",\n",
    "        \"subscribers_count\",\n",
    "        \"trophies.platinum\",\n",
    "        \"float_price\",\n",
    "        \"last_update_date\",\n",
    "        \"last_update.end_date\",\n",
    "        \"last_update.discount_percent\",\n",
    "        \"scores.metacritic.score\",\n",
    "        \"scores.opencritic.score\",\n",
    "    ]\n",
    "].copy()\n"
   ]
  },
  {
   "cell_type": "code",
   "execution_count": 4,
   "metadata": {},
   "outputs": [
    {
     "data": {
      "text/html": [
       "<div>\n",
       "<style scoped>\n",
       "    .dataframe tbody tr th:only-of-type {\n",
       "        vertical-align: middle;\n",
       "    }\n",
       "\n",
       "    .dataframe tbody tr th {\n",
       "        vertical-align: top;\n",
       "    }\n",
       "\n",
       "    .dataframe thead th {\n",
       "        text-align: right;\n",
       "    }\n",
       "</style>\n",
       "<table border=\"1\" class=\"dataframe\">\n",
       "  <thead>\n",
       "    <tr style=\"text-align: right;\">\n",
       "      <th></th>\n",
       "      <th>name</th>\n",
       "      <th>id</th>\n",
       "      <th>release_date</th>\n",
       "      <th>platforms</th>\n",
       "      <th>subscribers_count</th>\n",
       "      <th>trophies.platinum</th>\n",
       "      <th>float_price</th>\n",
       "      <th>last_update_date</th>\n",
       "      <th>last_update.end_date</th>\n",
       "      <th>last_update.discount_percent</th>\n",
       "      <th>scores.metacritic.score</th>\n",
       "      <th>scores.opencritic.score</th>\n",
       "    </tr>\n",
       "  </thead>\n",
       "  <tbody>\n",
       "    <tr>\n",
       "      <th>0</th>\n",
       "      <td>Moss: Libro II</td>\n",
       "      <td>5154444</td>\n",
       "      <td>None</td>\n",
       "      <td>['PS4']</td>\n",
       "      <td>16</td>\n",
       "      <td>False</td>\n",
       "      <td>39.99</td>\n",
       "      <td>2022-03-31T14:02:08+03:00</td>\n",
       "      <td>None</td>\n",
       "      <td>0</td>\n",
       "      <td>NaN</td>\n",
       "      <td>NaN</td>\n",
       "    </tr>\n",
       "    <tr>\n",
       "      <th>1</th>\n",
       "      <td>Elden Ring PS4 &amp; PS5</td>\n",
       "      <td>4928471</td>\n",
       "      <td>None</td>\n",
       "      <td>['PS4', 'PS5']</td>\n",
       "      <td>51</td>\n",
       "      <td>True</td>\n",
       "      <td>69.99</td>\n",
       "      <td>2021-11-04T21:40:31+03:00</td>\n",
       "      <td>None</td>\n",
       "      <td>0</td>\n",
       "      <td>NaN</td>\n",
       "      <td>NaN</td>\n",
       "    </tr>\n",
       "    <tr>\n",
       "      <th>2</th>\n",
       "      <td>Chrono Cross: The Radical Dreamers Edition</td>\n",
       "      <td>5198377</td>\n",
       "      <td>2022-04-07T03:00:00+03:00</td>\n",
       "      <td>['PS4']</td>\n",
       "      <td>12</td>\n",
       "      <td>False</td>\n",
       "      <td>19.99</td>\n",
       "      <td>2022-04-07T05:00:53+03:00</td>\n",
       "      <td>None</td>\n",
       "      <td>0</td>\n",
       "      <td>NaN</td>\n",
       "      <td>NaN</td>\n",
       "    </tr>\n",
       "    <tr>\n",
       "      <th>3</th>\n",
       "      <td>Lego Star Wars: La Saga Skywalker PS4 &amp; PS5</td>\n",
       "      <td>5048054</td>\n",
       "      <td>None</td>\n",
       "      <td>['PS4', 'PS5']</td>\n",
       "      <td>13</td>\n",
       "      <td>True</td>\n",
       "      <td>59.99</td>\n",
       "      <td>2022-01-20T19:46:16+03:00</td>\n",
       "      <td>None</td>\n",
       "      <td>0</td>\n",
       "      <td>NaN</td>\n",
       "      <td>NaN</td>\n",
       "    </tr>\n",
       "    <tr>\n",
       "      <th>4</th>\n",
       "      <td>Ghostwire: Tokyo</td>\n",
       "      <td>5065097</td>\n",
       "      <td>None</td>\n",
       "      <td>['PS5']</td>\n",
       "      <td>13</td>\n",
       "      <td>True</td>\n",
       "      <td>69.99</td>\n",
       "      <td>2022-03-25T04:59:18+03:00</td>\n",
       "      <td>None</td>\n",
       "      <td>0</td>\n",
       "      <td>NaN</td>\n",
       "      <td>NaN</td>\n",
       "    </tr>\n",
       "  </tbody>\n",
       "</table>\n",
       "</div>"
      ],
      "text/plain": [
       "                                          name       id  \\\n",
       "0                               Moss: Libro II  5154444   \n",
       "1                         Elden Ring PS4 & PS5  4928471   \n",
       "2   Chrono Cross: The Radical Dreamers Edition  5198377   \n",
       "3  Lego Star Wars: La Saga Skywalker PS4 & PS5  5048054   \n",
       "4                             Ghostwire: Tokyo  5065097   \n",
       "\n",
       "                release_date       platforms  subscribers_count  \\\n",
       "0                       None         ['PS4']                 16   \n",
       "1                       None  ['PS4', 'PS5']                 51   \n",
       "2  2022-04-07T03:00:00+03:00         ['PS4']                 12   \n",
       "3                       None  ['PS4', 'PS5']                 13   \n",
       "4                       None         ['PS5']                 13   \n",
       "\n",
       "   trophies.platinum  float_price           last_update_date  \\\n",
       "0              False        39.99  2022-03-31T14:02:08+03:00   \n",
       "1               True        69.99  2021-11-04T21:40:31+03:00   \n",
       "2              False        19.99  2022-04-07T05:00:53+03:00   \n",
       "3               True        59.99  2022-01-20T19:46:16+03:00   \n",
       "4               True        69.99  2022-03-25T04:59:18+03:00   \n",
       "\n",
       "  last_update.end_date  last_update.discount_percent  scores.metacritic.score  \\\n",
       "0                 None                             0                      NaN   \n",
       "1                 None                             0                      NaN   \n",
       "2                 None                             0                      NaN   \n",
       "3                 None                             0                      NaN   \n",
       "4                 None                             0                      NaN   \n",
       "\n",
       "   scores.opencritic.score  \n",
       "0                      NaN  \n",
       "1                      NaN  \n",
       "2                      NaN  \n",
       "3                      NaN  \n",
       "4                      NaN  "
      ]
     },
     "execution_count": 4,
     "metadata": {},
     "output_type": "execute_result"
    }
   ],
   "source": [
    "data.head()"
   ]
  },
  {
   "cell_type": "code",
   "execution_count": 5,
   "metadata": {},
   "outputs": [
    {
     "name": "stdout",
     "output_type": "stream",
     "text": [
      "99.56728% of metacritic scores missing\n",
      "94.52820% of opencritic scores missing\n"
     ]
    }
   ],
   "source": [
    "missing_mc_percentage = data[\"scores.metacritic.score\"].isna().sum() / data.shape[0] * 100\n",
    "missing_oc_percentage = data[\"scores.opencritic.score\"].isna().sum() / data.shape[0] * 100\n",
    "\n",
    "print(f\"{missing_mc_percentage:.5f}% of metacritic scores missing\")\n",
    "print(f\"{missing_oc_percentage:.5f}% of opencritic scores missing\")"
   ]
  },
  {
   "attachments": {},
   "cell_type": "markdown",
   "metadata": {},
   "source": [
    "Steps to transform the dataset and make it suitable for clustering algorithms:\n",
    "- release_date as int or timestamp\n",
    "- dummify platforms\n",
    "- encode trophies.platinum\n",
    "- last_update_date as time from current_date\n",
    "- update_duration = last_update.end_date - last_update_date"
   ]
  },
  {
   "cell_type": "code",
   "execution_count": 6,
   "metadata": {},
   "outputs": [],
   "source": [
    "# Convert to date dtypes\n",
    "date_columns = data.columns[data.columns.str.contains(\"_date\")]\n",
    "\n",
    "for c in date_columns:\n",
    "    data[c] = pd.to_datetime(data[c], utc=True).dt.date"
   ]
  },
  {
   "cell_type": "code",
   "execution_count": 7,
   "metadata": {},
   "outputs": [],
   "source": [
    "def date_to_days_since(x):\n",
    "    if x is pd.NaT:\n",
    "        return np.nan\n",
    "    else:\n",
    "        return (datetime.date.today() - x).days"
   ]
  },
  {
   "cell_type": "code",
   "execution_count": 8,
   "metadata": {},
   "outputs": [
    {
     "name": "stdout",
     "output_type": "stream",
     "text": [
      "10.231714126186487% missing release_date\n",
      "0.5583472920156337% missing last_update_date\n"
     ]
    }
   ],
   "source": [
    "print(f'{data[\"release_date\"].isna().sum() / data.shape[0] * 100}% missing release_date')\n",
    "print(f'{data[\"last_update_date\"].isna().sum() / data.shape[0] * 100}% missing last_update_date')"
   ]
  },
  {
   "cell_type": "code",
   "execution_count": 9,
   "metadata": {},
   "outputs": [],
   "source": [
    "data[\"days_since_release\"] = [date_to_days_since(x) for x in data[\"release_date\"]]\n",
    "data[\"days_since_last_update\"] = [date_to_days_since(x) for x in data[\"last_update_date\"]]"
   ]
  },
  {
   "cell_type": "code",
   "execution_count": 10,
   "metadata": {},
   "outputs": [
    {
     "data": {
      "text/plain": [
       "array([\"['PS4']\", \"['PS4', 'PS5']\", \"['PS5']\", \"['PS4', 'PSVita']\",\n",
       "       \"['PS5', 'PS4']\", \"['PS4', 'PS3']\", \"['PS4', 'PS3', 'PSVita']\",\n",
       "       \"['PS4', 'PS3', 'PSVita', 'PSP']\"], dtype=object)"
      ]
     },
     "execution_count": 10,
     "metadata": {},
     "output_type": "execute_result"
    }
   ],
   "source": [
    "data[\"platforms\"].unique()"
   ]
  },
  {
   "cell_type": "code",
   "execution_count": 11,
   "metadata": {},
   "outputs": [],
   "source": [
    "data[\"is_ps5\"] = [1 if \"PS5\" in x else 0 for x in data[\"platforms\"]]\n",
    "data[\"is_ps4\"] = [1 if \"PS4\" in x else 0 for x in data[\"platforms\"]]\n",
    "data[\"is_ps3\"] = [1 if \"PS3\" in x else 0 for x in data[\"platforms\"]]\n",
    "data[\"is_psv\"] = [1 if \"PSVita\" in x else 0 for x in data[\"platforms\"]]\n",
    "\n",
    "data[\"platforms_count\"] = [len(x) for x in data[\"platforms\"]]"
   ]
  },
  {
   "cell_type": "code",
   "execution_count": 12,
   "metadata": {},
   "outputs": [],
   "source": [
    "data[\"has_platinum\"] = data[\"trophies.platinum\"].astype(int)"
   ]
  },
  {
   "cell_type": "code",
   "execution_count": 13,
   "metadata": {},
   "outputs": [
    {
     "data": {
      "text/html": [
       "<div>\n",
       "<style scoped>\n",
       "    .dataframe tbody tr th:only-of-type {\n",
       "        vertical-align: middle;\n",
       "    }\n",
       "\n",
       "    .dataframe tbody tr th {\n",
       "        vertical-align: top;\n",
       "    }\n",
       "\n",
       "    .dataframe thead th {\n",
       "        text-align: right;\n",
       "    }\n",
       "</style>\n",
       "<table border=\"1\" class=\"dataframe\">\n",
       "  <thead>\n",
       "    <tr style=\"text-align: right;\">\n",
       "      <th></th>\n",
       "      <th>id</th>\n",
       "      <th>subscribers_count</th>\n",
       "      <th>float_price</th>\n",
       "      <th>days_since_release</th>\n",
       "      <th>days_since_last_update</th>\n",
       "      <th>is_ps5</th>\n",
       "      <th>is_ps4</th>\n",
       "      <th>is_ps3</th>\n",
       "      <th>is_psv</th>\n",
       "      <th>platforms_count</th>\n",
       "      <th>has_platinum</th>\n",
       "    </tr>\n",
       "  </thead>\n",
       "  <tbody>\n",
       "    <tr>\n",
       "      <th>0</th>\n",
       "      <td>5154444</td>\n",
       "      <td>16</td>\n",
       "      <td>39.99</td>\n",
       "      <td>NaN</td>\n",
       "      <td>353.0</td>\n",
       "      <td>0</td>\n",
       "      <td>1</td>\n",
       "      <td>0</td>\n",
       "      <td>0</td>\n",
       "      <td>7</td>\n",
       "      <td>0</td>\n",
       "    </tr>\n",
       "    <tr>\n",
       "      <th>1</th>\n",
       "      <td>4928471</td>\n",
       "      <td>51</td>\n",
       "      <td>69.99</td>\n",
       "      <td>NaN</td>\n",
       "      <td>500.0</td>\n",
       "      <td>1</td>\n",
       "      <td>1</td>\n",
       "      <td>0</td>\n",
       "      <td>0</td>\n",
       "      <td>14</td>\n",
       "      <td>1</td>\n",
       "    </tr>\n",
       "    <tr>\n",
       "      <th>2</th>\n",
       "      <td>5198377</td>\n",
       "      <td>12</td>\n",
       "      <td>19.99</td>\n",
       "      <td>346.0</td>\n",
       "      <td>346.0</td>\n",
       "      <td>0</td>\n",
       "      <td>1</td>\n",
       "      <td>0</td>\n",
       "      <td>0</td>\n",
       "      <td>7</td>\n",
       "      <td>0</td>\n",
       "    </tr>\n",
       "    <tr>\n",
       "      <th>3</th>\n",
       "      <td>5048054</td>\n",
       "      <td>13</td>\n",
       "      <td>59.99</td>\n",
       "      <td>NaN</td>\n",
       "      <td>423.0</td>\n",
       "      <td>1</td>\n",
       "      <td>1</td>\n",
       "      <td>0</td>\n",
       "      <td>0</td>\n",
       "      <td>14</td>\n",
       "      <td>1</td>\n",
       "    </tr>\n",
       "    <tr>\n",
       "      <th>4</th>\n",
       "      <td>5065097</td>\n",
       "      <td>13</td>\n",
       "      <td>69.99</td>\n",
       "      <td>NaN</td>\n",
       "      <td>359.0</td>\n",
       "      <td>1</td>\n",
       "      <td>0</td>\n",
       "      <td>0</td>\n",
       "      <td>0</td>\n",
       "      <td>7</td>\n",
       "      <td>1</td>\n",
       "    </tr>\n",
       "  </tbody>\n",
       "</table>\n",
       "</div>"
      ],
      "text/plain": [
       "        id  subscribers_count  float_price  days_since_release  \\\n",
       "0  5154444                 16        39.99                 NaN   \n",
       "1  4928471                 51        69.99                 NaN   \n",
       "2  5198377                 12        19.99               346.0   \n",
       "3  5048054                 13        59.99                 NaN   \n",
       "4  5065097                 13        69.99                 NaN   \n",
       "\n",
       "   days_since_last_update  is_ps5  is_ps4  is_ps3  is_psv  platforms_count  \\\n",
       "0                   353.0       0       1       0       0                7   \n",
       "1                   500.0       1       1       0       0               14   \n",
       "2                   346.0       0       1       0       0                7   \n",
       "3                   423.0       1       1       0       0               14   \n",
       "4                   359.0       1       0       0       0                7   \n",
       "\n",
       "   has_platinum  \n",
       "0             0  \n",
       "1             1  \n",
       "2             0  \n",
       "3             1  \n",
       "4             1  "
      ]
     },
     "execution_count": 13,
     "metadata": {},
     "output_type": "execute_result"
    }
   ],
   "source": [
    "# Prepare the final dataset\n",
    "outfile = data[[\n",
    "    \"id\",\n",
    "    \"subscribers_count\",\n",
    "    \"float_price\",\n",
    "    \"days_since_release\",\n",
    "    \"days_since_last_update\",\n",
    "    \"is_ps5\",\n",
    "    \"is_ps4\",\n",
    "    \"is_ps3\",\n",
    "    \"is_psv\",\n",
    "    \"platforms_count\",\n",
    "    \"has_platinum\",\n",
    "]]\n",
    "outfile.head()\n"
   ]
  },
  {
   "cell_type": "code",
   "execution_count": 14,
   "metadata": {},
   "outputs": [],
   "source": [
    "# If there are NaNs in the final output, drop them\n",
    "# outfile = outfile.dropna()\n",
    "# outfile.isna().sum()"
   ]
  },
  {
   "cell_type": "code",
   "execution_count": 15,
   "metadata": {},
   "outputs": [],
   "source": [
    "outfile.to_parquet(\"../data/processed/products_clustering.parquet\")"
   ]
  }
 ],
 "metadata": {
  "kernelspec": {
   "display_name": ".venv",
   "language": "python",
   "name": "python3"
  },
  "language_info": {
   "codemirror_mode": {
    "name": "ipython",
    "version": 3
   },
   "file_extension": ".py",
   "mimetype": "text/x-python",
   "name": "python",
   "nbconvert_exporter": "python",
   "pygments_lexer": "ipython3",
   "version": "3.8.10"
  },
  "orig_nbformat": 4,
  "vscode": {
   "interpreter": {
    "hash": "c63cb6f097c135682a46eb230b1bcae42f7bd6c24efd7cd131b85d860d3bd97f"
   }
  }
 },
 "nbformat": 4,
 "nbformat_minor": 2
}
